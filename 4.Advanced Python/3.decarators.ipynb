{
 "cells": [
  {
   "cell_type": "markdown",
   "metadata": {},
   "source": [
    "### Decorators\n",
    "Decorators are a powerful and flexible feature in Python that allows you to modify the behavior of a function or\n",
    "class method. They are commonly used to add functionality to functions or methods without modifying their‍\n",
    "actual code. This lesson covers the basics of decorators, including how to create and use them. >"
   ]
  },
  {
   "cell_type": "code",
   "execution_count": 8,
   "metadata": {},
   "outputs": [
    {
     "data": {
      "text/plain": [
       "'Abu'"
      ]
     },
     "execution_count": 8,
     "metadata": {},
     "output_type": "execute_result"
    }
   ],
   "source": [
    "# Function Copy\n",
    "def welcome():\n",
    "    return 'Abu'\n",
    "\n",
    "welcome()"
   ]
  },
  {
   "cell_type": "code",
   "execution_count": 3,
   "metadata": {},
   "outputs": [],
   "source": [
    "# Copy the function\n",
    "copy_welcome = welcome"
   ]
  },
  {
   "cell_type": "code",
   "execution_count": 4,
   "metadata": {},
   "outputs": [
    {
     "data": {
      "text/plain": [
       "function"
      ]
     },
     "execution_count": 4,
     "metadata": {},
     "output_type": "execute_result"
    }
   ],
   "source": [
    "type(copy_welcome)"
   ]
  },
  {
   "cell_type": "code",
   "execution_count": 5,
   "metadata": {},
   "outputs": [
    {
     "data": {
      "text/plain": [
       "'Abu'"
      ]
     },
     "execution_count": 5,
     "metadata": {},
     "output_type": "execute_result"
    }
   ],
   "source": [
    "copy_welcome()"
   ]
  },
  {
   "cell_type": "code",
   "execution_count": 9,
   "metadata": {},
   "outputs": [],
   "source": [
    "del welcome"
   ]
  },
  {
   "cell_type": "code",
   "execution_count": 10,
   "metadata": {},
   "outputs": [
    {
     "data": {
      "text/plain": [
       "'Abu'"
      ]
     },
     "execution_count": 10,
     "metadata": {},
     "output_type": "execute_result"
    }
   ],
   "source": [
    "# After deleting the main function that is welcome funtion it stores the copy in the new address so it cannot delete from the memory\n",
    "copy_welcome()"
   ]
  },
  {
   "cell_type": "code",
   "execution_count": 15,
   "metadata": {},
   "outputs": [],
   "source": [
    "# Closures -> It the Function inside an funtion\n",
    "\n",
    "def welcome():\n",
    "    mes = 'Welcome to my home'\n",
    "    def sub_welcome():\n",
    "        print(\"Nalla irukingala\")\n",
    "        print(mes)\n",
    "    return sub_welcome() # The main fucntion return the sub function"
   ]
  },
  {
   "cell_type": "code",
   "execution_count": 16,
   "metadata": {},
   "outputs": [
    {
     "name": "stdout",
     "output_type": "stream",
     "text": [
      "Nalla irukingala\n",
      "Welcome to my home\n"
     ]
    }
   ],
   "source": [
    "welcome()"
   ]
  },
  {
   "cell_type": "code",
   "execution_count": 18,
   "metadata": {},
   "outputs": [
    {
     "name": "stdout",
     "output_type": "stream",
     "text": [
      "hello WOrld\n"
     ]
    }
   ],
   "source": [
    "# Pass the funtion as an Parameter\n",
    "\n",
    "def try_panlam(func): # func is an function \n",
    "    func(\"hello WOrld\")\n",
    "\n",
    "try_panlam(print) # Print oru inbuild Function so ithu poi anga iruki=ura func edathula print nu replace aairum\n",
    "\n"
   ]
  },
  {
   "cell_type": "code",
   "execution_count": 27,
   "metadata": {},
   "outputs": [],
   "source": [
    "#Another example for Func Parameter\n",
    "\n",
    "def add(x,y):\n",
    "    return x+y\n",
    "def paathukalam(func,x,y):\n",
    "    print(func(x,y))"
   ]
  },
  {
   "cell_type": "code",
   "execution_count": 28,
   "metadata": {},
   "outputs": [
    {
     "name": "stdout",
     "output_type": "stream",
     "text": [
      "30\n"
     ]
    }
   ],
   "source": [
    "paathukalam(add,10,20)"
   ]
  },
  {
   "cell_type": "code",
   "execution_count": 29,
   "metadata": {},
   "outputs": [],
   "source": [
    "# Decorators\n",
    "def main_welcome(func):\n",
    "    def sub_welcome():\n",
    "        print('Hello World')\n",
    "        func()\n",
    "        print('Saapda Polam')\n",
    "    return sub_welcome()"
   ]
  },
  {
   "cell_type": "code",
   "execution_count": 30,
   "metadata": {},
   "outputs": [],
   "source": [
    "def course_intro():\n",
    "    print(\"Padi da Parama\")\n",
    "    "
   ]
  },
  {
   "cell_type": "code",
   "execution_count": 31,
   "metadata": {},
   "outputs": [
    {
     "name": "stdout",
     "output_type": "stream",
     "text": [
      "Hello World\n",
      "Padi da Parama\n",
      "Saapda Polam\n"
     ]
    }
   ],
   "source": [
    "# Ippo enakku antha main funtion fulla print aaganum na \n",
    "main_welcome(course_intro)"
   ]
  },
  {
   "cell_type": "code",
   "execution_count": 34,
   "metadata": {},
   "outputs": [
    {
     "name": "stdout",
     "output_type": "stream",
     "text": [
      "Hello World\n",
      "Padi da Parama\n",
      "Saapda Polam\n"
     ]
    }
   ],
   "source": [
    "# But without calling the main function i we can able to print all the above values using decarators\n",
    "@main_welcome\n",
    "def course_intro():\n",
    "    print(\"Padi da Parama\")"
   ]
  },
  {
   "cell_type": "code",
   "execution_count": null,
   "metadata": {},
   "outputs": [],
   "source": []
  }
 ],
 "metadata": {
  "kernelspec": {
   "display_name": "Python 3",
   "language": "python",
   "name": "python3"
  },
  "language_info": {
   "codemirror_mode": {
    "name": "ipython",
    "version": 3
   },
   "file_extension": ".py",
   "mimetype": "text/x-python",
   "name": "python",
   "nbconvert_exporter": "python",
   "pygments_lexer": "ipython3",
   "version": "3.11.7"
  }
 },
 "nbformat": 4,
 "nbformat_minor": 2
}
