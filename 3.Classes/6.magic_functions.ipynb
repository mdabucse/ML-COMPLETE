{
 "cells": [
  {
   "cell_type": "markdown",
   "metadata": {},
   "source": [
    "## Magic Methods\n",
    "* Also Known as Dunder Method (Double Underscore Method)\n",
    "* Starts and End with Double Unders score\n",
    "* These enables the behaviour of the objects for builtin Methods such as Arithmetic , Comparisions and More"
   ]
  },
  {
   "cell_type": "code",
   "execution_count": 1,
   "metadata": {},
   "outputs": [
    {
     "data": {
      "text/plain": [
       "\"\\nExample\\n__init__': Initializes a new instance of a class.\\n__str__: Returns a string representation of an object.\\n__repr__: Returns an official string representation of an object.\\n__len__: Returns the length of an object.\\n__getitem__ : Gets an item from a container.\\n__setitem__: Sets an item in a container.\\n\""
      ]
     },
     "execution_count": 1,
     "metadata": {},
     "output_type": "execute_result"
    }
   ],
   "source": [
    "'''\n",
    "Example\n",
    "__init__': Initializes a new instance of a class.\n",
    "__str__: Returns a string representation of an object.\n",
    "__repr__: Returns an official string representation of an object.\n",
    "__len__: Returns the length of an object.\n",
    "__getitem__ : Gets an item from a container.\n",
    "__setitem__: Sets an item in a container.\n",
    "'''"
   ]
  },
  {
   "cell_type": "code",
   "execution_count": 2,
   "metadata": {},
   "outputs": [
    {
     "name": "stdout",
     "output_type": "stream",
     "text": [
      "Abu and 20\n"
     ]
    }
   ],
   "source": [
    "# Basic Methods\n",
    "class Person:\n",
    "    def __init__(self,name,age):\n",
    "        self.name = name\n",
    "        self.age = age\n",
    "    def __str__(self):\n",
    "        return f\"{self.name} and {self.age}\" # Object a just print pannum pothu Intha value print aagum\n",
    "\n",
    "person = Person('Abu',20)\n",
    "print(person)"
   ]
  },
  {
   "cell_type": "code",
   "execution_count": null,
   "metadata": {},
   "outputs": [],
   "source": []
  }
 ],
 "metadata": {
  "kernelspec": {
   "display_name": "Python 3",
   "language": "python",
   "name": "python3"
  },
  "language_info": {
   "codemirror_mode": {
    "name": "ipython",
    "version": 3
   },
   "file_extension": ".py",
   "mimetype": "text/x-python",
   "name": "python",
   "nbconvert_exporter": "python",
   "pygments_lexer": "ipython3",
   "version": "3.11.7"
  }
 },
 "nbformat": 4,
 "nbformat_minor": 2
}
