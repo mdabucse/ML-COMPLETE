{
 "cells": [
  {
   "cell_type": "markdown",
   "metadata": {},
   "source": [
    "## Encapsulation\n",
    "* It Involes the Bundeling data and methods that operate on the data within a single unit\n",
    "* Encapsulation uses the Getter and Setter Methods"
   ]
  },
  {
   "cell_type": "code",
   "execution_count": 1,
   "metadata": {},
   "outputs": [],
   "source": [
    "# Public Variable\n",
    "class Person:\n",
    "    def __init__(self,name,age):\n",
    "        self.name = name  #Public Variable\n",
    "        self.age = age    #Public Variable\n",
    "\n",
    "person = Person('Abu',10)\n"
   ]
  },
  {
   "cell_type": "code",
   "execution_count": 3,
   "metadata": {},
   "outputs": [],
   "source": [
    "# Private Variable ->Imp Point It cannot accesed by the outside class and deraived class using Inheritance it does not able to access\n",
    "class Person:\n",
    "    def __init__(self,name,age):\n",
    "        self.__name = name  #Private Variable\n",
    "        self.__age = age    #Private Variable\n",
    "\n"
   ]
  },
  {
   "cell_type": "code",
   "execution_count": 4,
   "metadata": {},
   "outputs": [],
   "source": [
    "# Protected Variable -> Imp Point It cannot accessed by the outside class but we can able to use in the deraived class\n",
    "class Person:\n",
    "    def __init__(self,name,age):\n",
    "        self._name = name  #Protected Variable\n",
    "        self._age = age    #Protected Variable\n"
   ]
  },
  {
   "cell_type": "code",
   "execution_count": 7,
   "metadata": {},
   "outputs": [
    {
     "name": "stdout",
     "output_type": "stream",
     "text": [
      "Abu\n",
      "Thahi\n"
     ]
    }
   ],
   "source": [
    "# Encapsulation with Getter and Setter Method\n",
    "class Person:\n",
    "    def __init__(self,name):\n",
    "        self.__name = name\n",
    "\n",
    "    # Getter Method\n",
    "    def get_name(self):\n",
    "        return self.__name\n",
    "    \n",
    "    #Setter Method\n",
    "    def st_name(self,name):\n",
    "        self.__name = name\n",
    "\n",
    "\n",
    "person = Person('Abu')\n",
    "# Access the Variable Name\n",
    "print(person.get_name())\n",
    "person.st_name(\"Thahi\")\n",
    "print(person.get_name())   "
   ]
  },
  {
   "cell_type": "code",
   "execution_count": null,
   "metadata": {},
   "outputs": [],
   "source": []
  }
 ],
 "metadata": {
  "kernelspec": {
   "display_name": "Python 3",
   "language": "python",
   "name": "python3"
  },
  "language_info": {
   "codemirror_mode": {
    "name": "ipython",
    "version": 3
   },
   "file_extension": ".py",
   "mimetype": "text/x-python",
   "name": "python",
   "nbconvert_exporter": "python",
   "pygments_lexer": "ipython3",
   "version": "3.11.7"
  }
 },
 "nbformat": 4,
 "nbformat_minor": 2
}
