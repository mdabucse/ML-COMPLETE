{
 "cells": [
  {
   "cell_type": "markdown",
   "metadata": {},
   "source": [
    "# Read The File "
   ]
  },
  {
   "cell_type": "code",
   "execution_count": 1,
   "metadata": {},
   "outputs": [
    {
     "name": "stdout",
     "output_type": "stream",
     "text": [
      "Hii Abu\n"
     ]
    }
   ],
   "source": [
    "with open('example.txt','r') as file:\n",
    "    content = file.read()\n",
    "print(content)"
   ]
  },
  {
   "cell_type": "code",
   "execution_count": 2,
   "metadata": {},
   "outputs": [],
   "source": [
    "# Write the content into the file\n",
    "with open('example.txt','w') as file:\n",
    "    file.write(\"Hello World\\n\")\n",
    "    file.write(\"Hello World 1\")"
   ]
  },
  {
   "cell_type": "code",
   "execution_count": 3,
   "metadata": {},
   "outputs": [],
   "source": [
    "# Append the value\n",
    "with open('example.txt','a') as file:\n",
    "    file.write(\"Hello World\\n\")\n",
    "    file.write(\"Hello World 1\")"
   ]
  },
  {
   "cell_type": "code",
   "execution_count": 2,
   "metadata": {},
   "outputs": [
    {
     "name": "stdout",
     "output_type": "stream",
     "text": [
      "b'01000'\n"
     ]
    }
   ],
   "source": [
    "# Read The Binary File\n",
    "with open('example.bin','br') as file:\n",
    "    print(file.read())"
   ]
  },
  {
   "cell_type": "code",
   "execution_count": 7,
   "metadata": {},
   "outputs": [
    {
     "name": "stdout",
     "output_type": "stream",
     "text": [
      "Content From before pointer\n",
      "Content From After pointer\n",
      "Hello world Nalla Irukiya\n",
      "Vanakkam da Maapla\n",
      "\n"
     ]
    }
   ],
   "source": [
    "# Write and read the file at a time\n",
    "# If the file is not there it creates and Overwrite the entire content\n",
    "\n",
    "with open('example.txt','w+') as file:\n",
    "    file.write(\"Hello world Nalla Irukiya\\n\")\n",
    "    file.write(\"Vanakkam da Maapla\\n\")\n",
    "\n",
    "    #Before moving the Pointer\n",
    "    print(\"Content From before pointer\"+file.read())\n",
    "    # After writing the file pointer in second line so to change the pointer to 0th index for that we use the seek function to go that index\n",
    "    file.seek(0)\n",
    "\n",
    "    print(\"Content From After pointer\\n\"+file.read())\n"
   ]
  },
  {
   "cell_type": "code",
   "execution_count": null,
   "metadata": {},
   "outputs": [],
   "source": []
  }
 ],
 "metadata": {
  "kernelspec": {
   "display_name": "Python 3",
   "language": "python",
   "name": "python3"
  },
  "language_info": {
   "codemirror_mode": {
    "name": "ipython",
    "version": 3
   },
   "file_extension": ".py",
   "mimetype": "text/x-python",
   "name": "python",
   "nbconvert_exporter": "python",
   "pygments_lexer": "ipython3",
   "version": "3.11.7"
  }
 },
 "nbformat": 4,
 "nbformat_minor": 2
}
