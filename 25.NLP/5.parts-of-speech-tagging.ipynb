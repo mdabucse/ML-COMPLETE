{
 "cells": [
  {
   "cell_type": "code",
   "execution_count": 1,
   "metadata": {},
   "outputs": [],
   "source": [
    "paragraph = \"\"\"Dom Cobb (Leonardo DiCaprio) is a thief with the rare ability to enter people's dreams \n",
    "and steal their secrets from their subconscious. His skill has made him a hot commodity \n",
    "in the world of corporate espionage but has also cost him everything he loves. Cobb gets \n",
    "a chance at redemption when he is offered a seemingly impossible task: Plant an idea in someone's \n",
    "mind. If he succeeds, it will be the perfect crime, but a dangerous enemy anticipates Cobb's every move.\"\"\""
   ]
  },
  {
   "cell_type": "code",
   "execution_count": 5,
   "metadata": {},
   "outputs": [],
   "source": [
    "import nltk\n",
    "from nltk.corpus import stopwords"
   ]
  },
  {
   "cell_type": "code",
   "execution_count": null,
   "metadata": {},
   "outputs": [],
   "source": []
  },
  {
   "cell_type": "code",
   "execution_count": 4,
   "metadata": {},
   "outputs": [],
   "source": [
    "sentences = nltk.sent_tokenize(paragraph)"
   ]
  },
  {
   "cell_type": "code",
   "execution_count": 9,
   "metadata": {},
   "outputs": [
    {
     "name": "stdout",
     "output_type": "stream",
     "text": [
      "[('Dom', 'NNP'), ('Cobb', 'NNP'), ('(', '('), ('Leonardo', 'NNP'), ('DiCaprio', 'NNP'), (')', ')'), ('thief', 'NN'), ('rare', 'JJ'), ('ability', 'NN'), ('enter', 'VBP'), ('people', 'NNS'), (\"'s\", 'POS'), ('dreams', 'NNS'), ('steal', 'VBP'), ('secrets', 'NNS'), ('subconscious', 'JJ'), ('.', '.')]\n",
      "[('His', 'PRP$'), ('skill', 'NN'), ('made', 'VBD'), ('hot', 'JJ'), ('commodity', 'NN'), ('world', 'NN'), ('corporate', 'JJ'), ('espionage', 'NN'), ('also', 'RB'), ('cost', 'VBD'), ('everything', 'NN'), ('loves', 'NNS'), ('.', '.')]\n",
      "[('Cobb', 'NNP'), ('gets', 'VBZ'), ('chance', 'NN'), ('redemption', 'NN'), ('offered', 'VBD'), ('seemingly', 'RB'), ('impossible', 'JJ'), ('task', 'NN'), (':', ':'), ('Plant', 'NNP'), ('idea', 'NN'), ('someone', 'NN'), (\"'s\", 'POS'), ('mind', 'NN'), ('.', '.')]\n",
      "[('If', 'IN'), ('succeeds', 'VBZ'), (',', ','), ('perfect', 'JJ'), ('crime', 'NN'), (',', ','), ('dangerous', 'JJ'), ('enemy', 'NN'), ('anticipates', 'VBZ'), ('Cobb', 'NNP'), (\"'s\", 'POS'), ('every', 'DT'), ('move', 'NN'), ('.', '.')]\n"
     ]
    }
   ],
   "source": [
    "for i in range(len(sentences)):\n",
    "    words = nltk.word_tokenize(sentences[i])\n",
    "    words = [word for word in words if word not in stopwords.words('english')]\n",
    "    pos_tag = nltk.pos_tag(words)\n",
    "    print(pos_tag)"
   ]
  },
  {
   "cell_type": "code",
   "execution_count": 12,
   "metadata": {},
   "outputs": [
    {
     "name": "stdout",
     "output_type": "stream",
     "text": [
      "[('Taj', 'NNP'), ('Mahal', 'NNP'), ('os', 'VBZ'), ('a', 'DT'), ('beautiful', 'JJ'), ('Monument', 'NN')]\n"
     ]
    }
   ],
   "source": [
    "print(nltk.pos_tag('Taj Mahal os a beautiful Monument'.split()))"
   ]
  },
  {
   "cell_type": "code",
   "execution_count": null,
   "metadata": {},
   "outputs": [],
   "source": []
  }
 ],
 "metadata": {
  "kernelspec": {
   "display_name": "ML-COMPLETE",
   "language": "python",
   "name": "python3"
  },
  "language_info": {
   "codemirror_mode": {
    "name": "ipython",
    "version": 3
   },
   "file_extension": ".py",
   "mimetype": "text/x-python",
   "name": "python",
   "nbconvert_exporter": "python",
   "pygments_lexer": "ipython3",
   "version": "3.11.7"
  }
 },
 "nbformat": 4,
 "nbformat_minor": 2
}
