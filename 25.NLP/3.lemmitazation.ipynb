{
 "cells": [
  {
   "cell_type": "markdown",
   "metadata": {},
   "source": [
    "## Lemmatization\n",
    "* The Output will be get After Lemmatization is Called 'lemma'\n",
    "* It gives the Correct Meaning of the Word\n",
    "* It uses the WordNet CorpusReader"
   ]
  },
  {
   "cell_type": "code",
   "execution_count": 2,
   "metadata": {},
   "outputs": [],
   "source": [
    "from nltk.stem import WordNetLemmatizer"
   ]
  },
  {
   "cell_type": "code",
   "execution_count": 3,
   "metadata": {},
   "outputs": [],
   "source": [
    "lemmatizer = WordNetLemmatizer()"
   ]
  },
  {
   "cell_type": "code",
   "execution_count": 7,
   "metadata": {},
   "outputs": [
    {
     "name": "stdout",
     "output_type": "stream",
     "text": [
      "going\n",
      "go\n",
      "going\n",
      "going\n"
     ]
    }
   ],
   "source": [
    "'''\n",
    "POS - Noun -n\n",
    "Verb - v\n",
    "adjective - a\n",
    "adverb - r\n",
    "'''\n",
    "\n",
    "print(lemmatizer.lemmatize('going',pos='n'))\n",
    "print(lemmatizer.lemmatize('going',pos='v'))\n",
    "print(lemmatizer.lemmatize('going',pos='a'))\n",
    "print(lemmatizer.lemmatize('going',pos='r'))"
   ]
  }
 ],
 "metadata": {
  "kernelspec": {
   "display_name": "ML-COMPLETE",
   "language": "python",
   "name": "python3"
  },
  "language_info": {
   "codemirror_mode": {
    "name": "ipython",
    "version": 3
   },
   "file_extension": ".py",
   "mimetype": "text/x-python",
   "name": "python",
   "nbconvert_exporter": "python",
   "pygments_lexer": "ipython3",
   "version": "3.11.7"
  }
 },
 "nbformat": 4,
 "nbformat_minor": 2
}
