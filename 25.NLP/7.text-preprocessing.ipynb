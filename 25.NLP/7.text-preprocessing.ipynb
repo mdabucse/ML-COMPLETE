{
 "cells": [
  {
   "cell_type": "markdown",
   "metadata": {},
   "source": [
    "## Steps Involed\n",
    "* Tokenezation\n",
    "* Lowercase the words\n",
    "* Regular Expression\n",
    "* Stemming\n",
    "* Lemmatization\n",
    "* Stopwords\n",
    "* Text to Vectors\n",
    "* Bag Of Words\n",
    "* Word2Vec\n",
    "* AvgWord2Vec"
   ]
  },
  {
   "cell_type": "code",
   "execution_count": null,
   "metadata": {},
   "outputs": [],
   "source": [
    "  "
   ]
  }
 ],
 "metadata": {
  "language_info": {
   "name": "python"
  }
 },
 "nbformat": 4,
 "nbformat_minor": 2
}
