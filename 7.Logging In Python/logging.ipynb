{
 "cells": [
  {
   "cell_type": "markdown",
   "metadata": {},
   "source": [
    "Logging is a crucial aspect of any application, providing a way to track events, errors, and operational information. Python's built-in logging module offers a flexible framework for emitting log messages from Python programs. In this lesson, we will cover the basics of logging, including how to configure logging, log levels, and best practices for using logging in Python applications."
   ]
  },
  {
   "cell_type": "code",
   "execution_count": 5,
   "metadata": {},
   "outputs": [
    {
     "name": "stderr",
     "output_type": "stream",
     "text": [
      "DEBUG:root:This is DEBUG MESSAGE\n",
      "INFO:root:This is an Info Messages\n",
      "WARNING:root:This is Warning Messages\n",
      "ERROR:root:This is Error Message\n",
      "CRITICAL:root:This is Critical Message\n"
     ]
    }
   ],
   "source": [
    "import logging\n",
    "\n",
    "#Configure the Logging\n",
    "\n",
    "logging.basicConfig(level=logging.DEBUG)\n",
    "\n",
    "#Log Messages\n",
    "logging.debug(\"This is DEBUG MESSAGE\")\n",
    "logging.info(\"This is an Info Messages\")\n",
    "logging.warning(\"This is Warning Messages\")\n",
    "logging.error(\"This is Error Message\")\n",
    "logging.critical(\"This is Critical Message\")\n"
   ]
  },
  {
   "cell_type": "markdown",
   "metadata": {},
   "source": [
    "* DEBUG: Detailed information, typically of interest only when diagnosing problems.\n",
    "* INFO: Confirmation that things are working as expected.\n",
    "* WARNING: An indication that something unexpected happened or indicative of some problem in the  near future (e.g., 'disk space low'). The software is still working as expected.\n",
    "* ERROR: Due to a more serious problem, the software has not been able to perform some function.\n",
    "* CRITICAL: A very serious error, indicating that the program itself may be unable to continue running."
   ]
  },
  {
   "cell_type": "code",
   "execution_count": null,
   "metadata": {},
   "outputs": [],
   "source": []
  }
 ],
 "metadata": {
  "kernelspec": {
   "display_name": "Python 3",
   "language": "python",
   "name": "python3"
  },
  "language_info": {
   "codemirror_mode": {
    "name": "ipython",
    "version": 3
   },
   "file_extension": ".py",
   "mimetype": "text/x-python",
   "name": "python",
   "nbconvert_exporter": "python",
   "pygments_lexer": "ipython3",
   "version": "3.11.7"
  }
 },
 "nbformat": 4,
 "nbformat_minor": 2
}
